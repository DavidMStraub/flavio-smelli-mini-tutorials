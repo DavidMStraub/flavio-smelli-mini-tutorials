{
 "cells": [
  {
   "cell_type": "markdown",
   "metadata": {
    "slideshow": {
     "slide_type": "slide"
    }
   },
   "source": [
    "# `smelli` in 5 minutes\n",
    "\n",
    "David M. Straub\n",
    "\n",
    "SMEFT Tools 2019, IPPP Durham\n",
    "\n",
    "- Docs: https://smelli.github.io/\n",
    "- Repo: https://github.com/smelli/smelli\n",
    "- Paper: https://arxiv.org/abs/1810.07698"
   ]
  },
  {
   "cell_type": "markdown",
   "metadata": {
    "slideshow": {
     "slide_type": "slide"
    }
   },
   "source": [
    "## Instantiating the likelihood"
   ]
  },
  {
   "cell_type": "code",
   "execution_count": 1,
   "metadata": {},
   "outputs": [],
   "source": [
    "from smelli import GlobalLikelihood"
   ]
  },
  {
   "cell_type": "code",
   "execution_count": 2,
   "metadata": {},
   "outputs": [],
   "source": [
    "gl = GlobalLikelihood()"
   ]
  },
  {
   "cell_type": "code",
   "execution_count": 3,
   "metadata": {},
   "outputs": [
    {
     "data": {
      "text/plain": [
       "('SMEFT', 'Warsaw')"
      ]
     },
     "execution_count": 3,
     "metadata": {},
     "output_type": "execute_result"
    }
   ],
   "source": [
    "gl.eft, gl.basis"
   ]
  },
  {
   "cell_type": "code",
   "execution_count": 4,
   "metadata": {},
   "outputs": [
    {
     "data": {
      "text/plain": [
       "('WET', 'flavio')"
      ]
     },
     "execution_count": 4,
     "metadata": {},
     "output_type": "execute_result"
    }
   ],
   "source": [
    "gl_wet = GlobalLikelihood(eft='WET', basis='flavio')\n",
    "gl_wet.eft, gl_wet.basis"
   ]
  },
  {
   "cell_type": "markdown",
   "metadata": {
    "slideshow": {
     "slide_type": "slide"
    }
   },
   "source": [
    "## Fixing a point in WC space: 3 equivalent ways"
   ]
  },
  {
   "cell_type": "code",
   "execution_count": 5,
   "metadata": {},
   "outputs": [],
   "source": [
    "pp = gl.parameter_point({'lq3_2223': 1e-9}, scale=1000)"
   ]
  },
  {
   "cell_type": "code",
   "execution_count": 6,
   "metadata": {},
   "outputs": [],
   "source": [
    "from wilson import Wilson\n",
    "w = Wilson({'lq3_2223': 1e-9}, scale=1000, eft='SMEFT', basis='Warsaw')\n",
    "pp = gl.parameter_point(w)"
   ]
  },
  {
   "cell_type": "code",
   "execution_count": 10,
   "metadata": {},
   "outputs": [
    {
     "name": "stdout",
     "output_type": "stream",
     "text": [
      "eft: SMEFT\n",
      "basis: Warsaw\n",
      "scale: 1000\n",
      "values:\n",
      "  lq3_2223:\n",
      "    Re: 1e-9  \n",
      " \n"
     ]
    }
   ],
   "source": [
    "! cat my_wcxf.yaml"
   ]
  },
  {
   "cell_type": "code",
   "execution_count": 11,
   "metadata": {},
   "outputs": [],
   "source": [
    "pp = gl.parameter_point('my_wcxf.yaml')"
   ]
  },
  {
   "cell_type": "markdown",
   "metadata": {
    "slideshow": {
     "slide_type": "slide"
    }
   },
   "source": [
    "## Computing the likelihood"
   ]
  },
  {
   "cell_type": "code",
   "execution_count": 12,
   "metadata": {
    "slideshow": {
     "slide_type": "slide"
    }
   },
   "outputs": [
    {
     "name": "stdout",
     "output_type": "stream",
     "text": [
      "CPU times: user 13.2 s, sys: 83.3 ms, total: 13.3 s\n",
      "Wall time: 13.4 s\n"
     ]
    },
    {
     "data": {
      "text/plain": [
       "{'fast_likelihood_quarks.yaml': 17.008194547085054,\n",
       " 'fast_likelihood_leptons.yaml': -1.949346244600747e-05,\n",
       " 'likelihood_ewpt.yaml': 0.0031761163124564007,\n",
       " 'likelihood_lept.yaml': 3.518171419747418e-07,\n",
       " 'likelihood_rd_rds.yaml': 0.2437298671719148,\n",
       " 'likelihood_lfu_fccc.yaml': 0.0003688854091876692,\n",
       " 'likelihood_lfu_fcnc.yaml': 4.3594929772006346,\n",
       " 'likelihood_bcpv.yaml': 0.01289892919319513,\n",
       " 'likelihood_bqnunu.yaml': -0.11955365694792697,\n",
       " 'likelihood_lfv.yaml': 0.0,\n",
       " 'likelihood_zlfv.yaml': 0.0,\n",
       " 'global': 21.508288523779214}"
      ]
     },
     "execution_count": 12,
     "metadata": {},
     "output_type": "execute_result"
    }
   ],
   "source": [
    "%time pp.log_likelihood_dict()"
   ]
  },
  {
   "cell_type": "code",
   "execution_count": 13,
   "metadata": {},
   "outputs": [
    {
     "name": "stdout",
     "output_type": "stream",
     "text": [
      "CPU times: user 20 µs, sys: 0 ns, total: 20 µs\n",
      "Wall time: 29.6 µs\n"
     ]
    },
    {
     "data": {
      "text/plain": [
       "21.508288523779214"
      ]
     },
     "execution_count": 13,
     "metadata": {},
     "output_type": "execute_result"
    }
   ],
   "source": [
    "%time pp.log_likelihood_global()"
   ]
  },
  {
   "cell_type": "code",
   "execution_count": 14,
   "metadata": {
    "slideshow": {
     "slide_type": "slide"
    }
   },
   "outputs": [
    {
     "data": {
      "text/plain": [
       "{'fast_likelihood_quarks.yaml': 130.85446615388628,\n",
       " 'fast_likelihood_leptons.yaml': 22.034861038919303,\n",
       " 'likelihood_ewpt.yaml': 35.013426491829925,\n",
       " 'likelihood_lept.yaml': 1.4486601087977993,\n",
       " 'likelihood_rd_rds.yaml': 25.417914777781554,\n",
       " 'likelihood_lfu_fccc.yaml': 48.87261100003593,\n",
       " 'likelihood_lfu_fcnc.yaml': 18.88883588695845,\n",
       " 'likelihood_bcpv.yaml': 5.135539516924823,\n",
       " 'likelihood_bqnunu.yaml': 21.404088802288374,\n",
       " 'likelihood_lfv.yaml': 8.998264557313107,\n",
       " 'likelihood_zlfv.yaml': -0.0,\n",
       " 'global': 318.0686683347356}"
      ]
     },
     "execution_count": 14,
     "metadata": {},
     "output_type": "execute_result"
    }
   ],
   "source": [
    "pp.chi2_dict()"
   ]
  },
  {
   "cell_type": "code",
   "execution_count": 15,
   "metadata": {},
   "outputs": [
    {
     "data": {
      "text/plain": [
       "{'fast_likelihood_quarks.yaml': 114,\n",
       " 'fast_likelihood_leptons.yaml': 7,\n",
       " 'likelihood_ewpt.yaml': 25,\n",
       " 'likelihood_lept.yaml': 2,\n",
       " 'likelihood_rd_rds.yaml': 11,\n",
       " 'likelihood_lfu_fccc.yaml': 63,\n",
       " 'likelihood_lfu_fcnc.yaml': 15,\n",
       " 'likelihood_bcpv.yaml': 6,\n",
       " 'likelihood_bqnunu.yaml': 22,\n",
       " 'likelihood_lfv.yaml': 41,\n",
       " 'likelihood_zlfv.yaml': 7,\n",
       " 'global': 313}"
      ]
     },
     "execution_count": 15,
     "metadata": {},
     "output_type": "execute_result"
    }
   ],
   "source": [
    "pp.likelihood.number_observations_dict()"
   ]
  },
  {
   "cell_type": "markdown",
   "metadata": {
    "slideshow": {
     "slide_type": "slide"
    }
   },
   "source": [
    "## Table of observables"
   ]
  },
  {
   "cell_type": "code",
   "execution_count": null,
   "metadata": {},
   "outputs": [],
   "source": [
    "df = pp.obstable()"
   ]
  },
  {
   "cell_type": "code",
   "execution_count": null,
   "metadata": {},
   "outputs": [],
   "source": [
    "df"
   ]
  },
  {
   "cell_type": "code",
   "execution_count": null,
   "metadata": {
    "slideshow": {
     "slide_type": "slide"
    }
   },
   "outputs": [],
   "source": [
    "df.sort_values('pull SM')[:3]"
   ]
  },
  {
   "cell_type": "code",
   "execution_count": null,
   "metadata": {
    "slideshow": {
     "slide_type": "slide"
    }
   },
   "outputs": [],
   "source": [
    "df.loc[['Rtaul(B->D*lnu)']]"
   ]
  },
  {
   "cell_type": "markdown",
   "metadata": {
    "slideshow": {
     "slide_type": "slide"
    }
   },
   "source": [
    "## Plots"
   ]
  },
  {
   "cell_type": "code",
   "execution_count": null,
   "metadata": {},
   "outputs": [],
   "source": [
    "gl_ewpt = GlobalLikelihood(include_likelihoods=['likelihood_ewpt.yaml'])"
   ]
  },
  {
   "cell_type": "code",
   "execution_count": null,
   "metadata": {},
   "outputs": [],
   "source": [
    "def LL(x):\n",
    "    S, T = x\n",
    "    pp = gl_ewpt.parameter_point({'phiWB': S * 1e-6,\n",
    "                                  'phiD': -T * 1e-6},\n",
    "                                 scale=91.1876)\n",
    "    return pp.log_likelihood_global()"
   ]
  },
  {
   "cell_type": "code",
   "execution_count": null,
   "metadata": {
    "slideshow": {
     "slide_type": "slide"
    }
   },
   "outputs": [],
   "source": [
    "import flavio.plots as fpl\n",
    "%matplotlib inline\n",
    "%config InlineBackend.figure_format = 'retina'"
   ]
  },
  {
   "cell_type": "code",
   "execution_count": null,
   "metadata": {},
   "outputs": [],
   "source": [
    "fpl.likelihood_contour(LL, -0.1, 0.1, -0.1, 0.1, n_sigma=(1, 2, 3),\n",
    "                       interpolation_factor=10, threads=4)"
   ]
  },
  {
   "cell_type": "code",
   "execution_count": null,
   "metadata": {},
   "outputs": [],
   "source": []
  }
 ],
 "metadata": {
  "celltoolbar": "Slideshow",
  "kernelspec": {
   "display_name": "Python 3",
   "language": "python",
   "name": "python3"
  },
  "language_info": {
   "codemirror_mode": {
    "name": "ipython",
    "version": 3
   },
   "file_extension": ".py",
   "mimetype": "text/x-python",
   "name": "python",
   "nbconvert_exporter": "python",
   "pygments_lexer": "ipython3",
   "version": "3.7.3"
  }
 },
 "nbformat": 4,
 "nbformat_minor": 2
}
